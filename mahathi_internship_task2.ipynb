{
  "nbformat": 4,
  "nbformat_minor": 0,
  "metadata": {
    "colab": {
      "provenance": []
    },
    "kernelspec": {
      "name": "python3",
      "display_name": "Python 3"
    },
    "language_info": {
      "name": "python"
    }
  },
  "cells": [
    {
      "cell_type": "code",
      "execution_count": 1,
      "metadata": {
        "id": "92AFMhRxpY0P"
      },
      "outputs": [],
      "source": [
        "# 1. IMPORTS\n",
        "import pandas as pd\n",
        "import numpy as np\n",
        "from sklearn.model_selection import train_test_split, cross_val_score\n",
        "from sklearn.preprocessing import StandardScaler, LabelEncoder\n",
        "from sklearn.linear_model import LogisticRegression\n",
        "from sklearn.neighbors import KNeighborsClassifier\n",
        "from sklearn.tree import DecisionTreeClassifier\n",
        "from sklearn.metrics import accuracy_score, f1_score, classification_report\n",
        "import joblib"
      ]
    },
    {
      "cell_type": "code",
      "source": [
        "# 2. LOAD DATASET\n",
        "url = 'https://raw.githubusercontent.com/pandas-dev/pandas/main/pandas/tests/io/data/csv/iris.csv'\n",
        "df = pd.read_csv(url)\n",
        "print(\"First 5 rows of data:\")\n",
        "print(df.head())"
      ],
      "metadata": {
        "colab": {
          "base_uri": "https://localhost:8080/"
        },
        "id": "dZT80bFZpeQW",
        "outputId": "227db33d-123b-4f97-9728-7640380d4785"
      },
      "execution_count": 2,
      "outputs": [
        {
          "output_type": "stream",
          "name": "stdout",
          "text": [
            "First 5 rows of data:\n",
            "   SepalLength  SepalWidth  PetalLength  PetalWidth         Name\n",
            "0          5.1         3.5          1.4         0.2  Iris-setosa\n",
            "1          4.9         3.0          1.4         0.2  Iris-setosa\n",
            "2          4.7         3.2          1.3         0.2  Iris-setosa\n",
            "3          4.6         3.1          1.5         0.2  Iris-setosa\n",
            "4          5.0         3.6          1.4         0.2  Iris-setosa\n"
          ]
        }
      ]
    },
    {
      "cell_type": "code",
      "source": [
        "# 3. DATA CLEANING & PREPROCESSING\n",
        "print(\"\\nAny nulls?\", df.isnull().sum().any())\n",
        "# The iris dataset usually doesn't need much cleaning\n",
        "le = LabelEncoder()\n",
        "df['Name'] = le.fit_transform(df['Name'])  # Encode species as numbers\n",
        "\n",
        "# Split data/features and target\n",
        "X = df.drop('Name', axis=1)\n",
        "y = df['Name']\n",
        "\n",
        "# Standardize features (very important for distance-based and regularized methods!)\n",
        "scaler = StandardScaler()\n",
        "X_scaled = scaler.fit_transform(X)\n",
        "\n",
        "# Train/test split for final evaluation after cross-validation\n",
        "X_train, X_test, y_train, y_test = train_test_split(X_scaled, y, test_size=0.2, random_state=42, stratify=y)\n"
      ],
      "metadata": {
        "colab": {
          "base_uri": "https://localhost:8080/"
        },
        "id": "k9SVrH5MpkXU",
        "outputId": "6d87829e-1b43-47c5-d7ae-d106f193fb43"
      },
      "execution_count": 3,
      "outputs": [
        {
          "output_type": "stream",
          "name": "stdout",
          "text": [
            "\n",
            "Any nulls? False\n"
          ]
        }
      ]
    },
    {
      "cell_type": "code",
      "source": [
        "# 4. DEFINE & TEST 3 MODELS WITH CROSS-VALIDATION\n",
        "models = {\n",
        "    'Logistic Regression': LogisticRegression(max_iter=200),\n",
        "    'K-Nearest Neighbors': KNeighborsClassifier(n_neighbors=5),\n",
        "    'Decision Tree': DecisionTreeClassifier(random_state=42)\n",
        "}\n",
        "\n",
        "cv_results = {}\n",
        "for name, model in models.items():\n",
        "    cv_score = cross_val_score(model, X_train, y_train, cv=5, scoring='accuracy')\n",
        "    print(f\"\\n{name} - Cross-validated Accuracy: {cv_score.mean():.4f} (+/- {cv_score.std():.4f})\")\n",
        "    cv_results[name] = cv_score.mean()\n",
        "    # Observations:\n",
        "    if name == 'Logistic Regression':\n",
        "        print(\"• Logistic Regression generally works well with multi-class, linearly separable data like Iris.\")\n",
        "    elif name == 'K-Nearest Neighbors':\n",
        "        print(\"• KNN requires scaling and can be sensitive to outliers but is simple and interpretable.\")\n",
        "    elif name == 'Decision Tree':\n",
        "        print(\"• Decision Trees handle non-linear patterns and are easy to visualize, but can overfit.\")\n"
      ],
      "metadata": {
        "colab": {
          "base_uri": "https://localhost:8080/"
        },
        "id": "BLfBlH0zprMq",
        "outputId": "909f8be4-fcc2-42b2-aba7-ba5c2ae1a1e6"
      },
      "execution_count": 4,
      "outputs": [
        {
          "output_type": "stream",
          "name": "stdout",
          "text": [
            "\n",
            "Logistic Regression - Cross-validated Accuracy: 0.9583 (+/- 0.0264)\n",
            "• Logistic Regression generally works well with multi-class, linearly separable data like Iris.\n",
            "\n",
            "K-Nearest Neighbors - Cross-validated Accuracy: 0.9583 (+/- 0.0373)\n",
            "• KNN requires scaling and can be sensitive to outliers but is simple and interpretable.\n",
            "\n",
            "Decision Tree - Cross-validated Accuracy: 0.9417 (+/- 0.0204)\n",
            "• Decision Trees handle non-linear patterns and are easy to visualize, but can overfit.\n"
          ]
        }
      ]
    },
    {
      "cell_type": "code",
      "source": [
        "# 5. SELECT BEST MODEL\n",
        "best_model_name = max(cv_results, key=cv_results.get)\n",
        "best_model = models[best_model_name]\n",
        "print(f\"\\n\\nBest model based on CV accuracy: {best_model_name}\")"
      ],
      "metadata": {
        "colab": {
          "base_uri": "https://localhost:8080/"
        },
        "id": "4a6unKMipwRy",
        "outputId": "fc17577e-b33f-4a76-dbf2-49dcd97b56c7"
      },
      "execution_count": 5,
      "outputs": [
        {
          "output_type": "stream",
          "name": "stdout",
          "text": [
            "\n",
            "\n",
            "Best model based on CV accuracy: Logistic Regression\n"
          ]
        }
      ]
    },
    {
      "cell_type": "code",
      "source": [
        "# 6. TRAIN BEST MODEL ON all TRAIN DATA AND EVALUATE ON TEST\n",
        "best_model.fit(X_train, y_train)\n",
        "y_pred = best_model.predict(X_test)\n",
        "print(f\"\\n{best_model_name} Test Accuracy: {accuracy_score(y_test, y_pred):.4f}\")\n",
        "print(f\"{best_model_name} F1 Score: {f1_score(y_test, y_pred, average='weighted'):.4f}\")\n",
        "print(\"\\nClassification Report:\")\n",
        "print(classification_report(y_test, y_pred, target_names=le.classes_))"
      ],
      "metadata": {
        "colab": {
          "base_uri": "https://localhost:8080/"
        },
        "id": "h9ezJ8lGpzRT",
        "outputId": "074b4ab8-8cc2-4aef-c49e-41781e8cc5fc"
      },
      "execution_count": 6,
      "outputs": [
        {
          "output_type": "stream",
          "name": "stdout",
          "text": [
            "\n",
            "Logistic Regression Test Accuracy: 0.9333\n",
            "Logistic Regression F1 Score: 0.9333\n",
            "\n",
            "Classification Report:\n",
            "                 precision    recall  f1-score   support\n",
            "\n",
            "    Iris-setosa       1.00      1.00      1.00        10\n",
            "Iris-versicolor       0.90      0.90      0.90        10\n",
            " Iris-virginica       0.90      0.90      0.90        10\n",
            "\n",
            "       accuracy                           0.93        30\n",
            "      macro avg       0.93      0.93      0.93        30\n",
            "   weighted avg       0.93      0.93      0.93        30\n",
            "\n"
          ]
        }
      ]
    },
    {
      "cell_type": "code",
      "source": [
        "# 7. SAVE FINAL MODEL\n",
        "joblib.dump(best_model, 'best_iris_model.joblib')\n",
        "joblib.dump(scaler, 'iris_scaler.joblib')\n",
        "\n",
        "print(\"\\nBest model and scaler saved as 'best_iris_model.joblib' and 'iris_scaler.joblib'.\")\n"
      ],
      "metadata": {
        "colab": {
          "base_uri": "https://localhost:8080/"
        },
        "id": "1lxkDQaUp2GY",
        "outputId": "a88c06db-a3ba-4e2b-b2c0-085df10e244b"
      },
      "execution_count": 7,
      "outputs": [
        {
          "output_type": "stream",
          "name": "stdout",
          "text": [
            "\n",
            "Best model and scaler saved as 'best_iris_model.joblib' and 'iris_scaler.joblib'.\n"
          ]
        }
      ]
    },
    {
      "cell_type": "code",
      "source": [
        "# 8. OBSERVATIONS & COMMENTS\n",
        "print(\"\\n### FINAL OBSERVATIONS & COMMENTS ###\")\n",
        "for name, acc in cv_results.items():\n",
        "    print(f\"{name}: CV Accuracy = {acc:.4f}\")\n",
        "print(f\"\\nBased on accuracy, '{best_model_name}' is selected as the final model. Other models have their own merits; for example, KNN is simple and interpretable, while Decision Trees are robust to non-normalized features. However, Logistic Regression often performs best on relatively simple and well-separated datasets such as this.\")\n"
      ],
      "metadata": {
        "colab": {
          "base_uri": "https://localhost:8080/"
        },
        "id": "jyZwJMkIp7Ep",
        "outputId": "7f99ccf2-de53-4577-8c62-1961c2bbd247"
      },
      "execution_count": 8,
      "outputs": [
        {
          "output_type": "stream",
          "name": "stdout",
          "text": [
            "\n",
            "### FINAL OBSERVATIONS & COMMENTS ###\n",
            "Logistic Regression: CV Accuracy = 0.9583\n",
            "K-Nearest Neighbors: CV Accuracy = 0.9583\n",
            "Decision Tree: CV Accuracy = 0.9417\n",
            "\n",
            "Based on accuracy, 'Logistic Regression' is selected as the final model. Other models have their own merits; for example, KNN is simple and interpretable, while Decision Trees are robust to non-normalized features. However, Logistic Regression often performs best on relatively simple and well-separated datasets such as this.\n"
          ]
        }
      ]
    },
    {
      "cell_type": "code",
      "source": [],
      "metadata": {
        "id": "QOaE2Ewbp-jp"
      },
      "execution_count": null,
      "outputs": []
    }
  ]
}